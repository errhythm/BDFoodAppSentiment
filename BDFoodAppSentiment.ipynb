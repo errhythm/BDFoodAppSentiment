{
 "cells": [
  {
   "cell_type": "markdown",
   "metadata": {},
   "source": [
    "## Importing Necessary Libraries"
   ]
  },
  {
   "cell_type": "code",
   "execution_count": 1,
   "metadata": {
    "_cell_guid": "b1076dfc-b9ad-4769-8c92-a6c4dae69d19",
    "_uuid": "8f2839f25d086af736a60e9eeb907d3b93b6e0e5"
   },
   "outputs": [
    {
     "name": "stderr",
     "output_type": "stream",
     "text": [
      "[nltk_data] Downloading package punkt to\n",
      "[nltk_data]     C:\\Users\\Administrator\\AppData\\Roaming\\nltk_data...\n",
      "[nltk_data]   Package punkt is already up-to-date!\n",
      "[nltk_data] Downloading package averaged_perceptron_tagger to\n",
      "[nltk_data]     C:\\Users\\Administrator\\AppData\\Roaming\\nltk_data...\n",
      "[nltk_data]   Package averaged_perceptron_tagger is already up-to-\n",
      "[nltk_data]       date!\n",
      "[nltk_data] Downloading package maxent_ne_chunker to\n",
      "[nltk_data]     C:\\Users\\Administrator\\AppData\\Roaming\\nltk_data...\n",
      "[nltk_data]   Package maxent_ne_chunker is already up-to-date!\n",
      "[nltk_data] Downloading package words to\n",
      "[nltk_data]     C:\\Users\\Administrator\\AppData\\Roaming\\nltk_data...\n",
      "[nltk_data]   Package words is already up-to-date!\n",
      "[nltk_data] Downloading package vader_lexicon to\n",
      "[nltk_data]     C:\\Users\\Administrator\\AppData\\Roaming\\nltk_data...\n",
      "[nltk_data]   Package vader_lexicon is already up-to-date!\n"
     ]
    },
    {
     "data": {
      "text/plain": [
       "True"
      ]
     },
     "execution_count": 1,
     "metadata": {},
     "output_type": "execute_result"
    }
   ],
   "source": [
    "import pandas as pd\n",
    "import numpy as np\n",
    "import matplotlib.pyplot as plt\n",
    "import seaborn as sns\n",
    "\n",
    "plt.style.use('ggplot')\n",
    "import nltk\n",
    "nltk.download('punkt')\n",
    "nltk.download('averaged_perceptron_tagger')\n",
    "nltk.download('maxent_ne_chunker')\n",
    "nltk.download('words')\n",
    "nltk.download('vader_lexicon')"
   ]
  },
  {
   "cell_type": "code",
   "execution_count": 2,
   "metadata": {},
   "outputs": [
    {
     "name": "stdout",
     "output_type": "stream",
     "text": [
      "Requirement already satisfied: transformers in c:\\programdata\\anaconda3\\lib\\site-packages (4.26.1)\n",
      "Requirement already satisfied: numpy>=1.17 in c:\\programdata\\anaconda3\\lib\\site-packages (from transformers) (1.21.5)\n",
      "Requirement already satisfied: requests in c:\\programdata\\anaconda3\\lib\\site-packages (from transformers) (2.28.1)\n",
      "Requirement already satisfied: regex!=2019.12.17 in c:\\programdata\\anaconda3\\lib\\site-packages (from transformers) (2022.7.9)\n",
      "Requirement already satisfied: tqdm>=4.27 in c:\\programdata\\anaconda3\\lib\\site-packages (from transformers) (4.64.1)\n",
      "Requirement already satisfied: packaging>=20.0 in c:\\programdata\\anaconda3\\lib\\site-packages (from transformers) (21.3)\n",
      "Requirement already satisfied: pyyaml>=5.1 in c:\\programdata\\anaconda3\\lib\\site-packages (from transformers) (6.0)\n",
      "Requirement already satisfied: huggingface-hub<1.0,>=0.11.0 in c:\\programdata\\anaconda3\\lib\\site-packages (from transformers) (0.12.0)\n",
      "Requirement already satisfied: tokenizers!=0.11.3,<0.14,>=0.11.1 in c:\\programdata\\anaconda3\\lib\\site-packages (from transformers) (0.13.2)\n",
      "Requirement already satisfied: filelock in c:\\programdata\\anaconda3\\lib\\site-packages (from transformers) (3.6.0)\n",
      "Requirement already satisfied: typing-extensions>=3.7.4.3 in c:\\programdata\\anaconda3\\lib\\site-packages (from huggingface-hub<1.0,>=0.11.0->transformers) (4.3.0)\n",
      "Requirement already satisfied: pyparsing!=3.0.5,>=2.0.2 in c:\\programdata\\anaconda3\\lib\\site-packages (from packaging>=20.0->transformers) (3.0.9)\n",
      "Requirement already satisfied: colorama in c:\\programdata\\anaconda3\\lib\\site-packages (from tqdm>=4.27->transformers) (0.4.5)\n",
      "Requirement already satisfied: urllib3<1.27,>=1.21.1 in c:\\programdata\\anaconda3\\lib\\site-packages (from requests->transformers) (1.26.11)\n",
      "Requirement already satisfied: charset-normalizer<3,>=2 in c:\\programdata\\anaconda3\\lib\\site-packages (from requests->transformers) (2.0.4)\n",
      "Requirement already satisfied: idna<4,>=2.5 in c:\\programdata\\anaconda3\\lib\\site-packages (from requests->transformers) (3.3)\n",
      "Requirement already satisfied: certifi>=2017.4.17 in c:\\programdata\\anaconda3\\lib\\site-packages (from requests->transformers) (2022.9.14)\n"
     ]
    }
   ],
   "source": [
    "!pip install transformers\n",
    "from transformers import AutoTokenizer\n",
    "from transformers import AutoModelForSequenceClassification\n",
    "from scipy.special import softmax"
   ]
  },
  {
   "cell_type": "markdown",
   "metadata": {},
   "source": [
    "## Import Dataset and PreProcessing"
   ]
  },
  {
   "cell_type": "code",
   "execution_count": 3,
   "metadata": {},
   "outputs": [
    {
     "name": "stdout",
     "output_type": "stream",
     "text": [
      "(15017, 5)\n"
     ]
    }
   ],
   "source": [
    "url = 'https://github.com/errhythm/BDFoodAppSentiment/raw/main/Dataset.csv'\n",
    "df = pd.read_csv(url)\n",
    "print(df.shape)"
   ]
  },
  {
   "cell_type": "code",
   "execution_count": 4,
   "metadata": {},
   "outputs": [
    {
     "data": {
      "text/html": [
       "<div>\n",
       "<style scoped>\n",
       "    .dataframe tbody tr th:only-of-type {\n",
       "        vertical-align: middle;\n",
       "    }\n",
       "\n",
       "    .dataframe tbody tr th {\n",
       "        vertical-align: top;\n",
       "    }\n",
       "\n",
       "    .dataframe thead th {\n",
       "        text-align: right;\n",
       "    }\n",
       "</style>\n",
       "<table border=\"1\" class=\"dataframe\">\n",
       "  <thead>\n",
       "    <tr style=\"text-align: right;\">\n",
       "      <th></th>\n",
       "      <th>createdAt</th>\n",
       "      <th>text</th>\n",
       "      <th>reviewerName</th>\n",
       "      <th>ratingvalue</th>\n",
       "      <th>id</th>\n",
       "    </tr>\n",
       "  </thead>\n",
       "  <tbody>\n",
       "    <tr>\n",
       "      <th>0</th>\n",
       "      <td>2022-02-04T11:10:14.474Z</td>\n",
       "      <td>he received my order around 2.30 pm but delive...</td>\n",
       "      <td>Anonymous</td>\n",
       "      <td>4</td>\n",
       "      <td>0</td>\n",
       "    </tr>\n",
       "    <tr>\n",
       "      <th>1</th>\n",
       "      <td>2022-07-16T05:59:24Z</td>\n",
       "      <td>taste was not that good. and the amount of cof...</td>\n",
       "      <td>Israel</td>\n",
       "      <td>1</td>\n",
       "      <td>1</td>\n",
       "    </tr>\n",
       "    <tr>\n",
       "      <th>2</th>\n",
       "      <td>2022-04-24T12:15:02.221Z</td>\n",
       "      <td>It is better if the girl is a little bigger</td>\n",
       "      <td>Anonymous</td>\n",
       "      <td>5</td>\n",
       "      <td>2</td>\n",
       "    </tr>\n",
       "    <tr>\n",
       "      <th>3</th>\n",
       "      <td>2021-11-16T15:55:42.189Z</td>\n",
       "      <td>take too much time. today i feel very angry</td>\n",
       "      <td>Zerin Ibnat</td>\n",
       "      <td>1</td>\n",
       "      <td>3</td>\n",
       "    </tr>\n",
       "    <tr>\n",
       "      <th>4</th>\n",
       "      <td>2022-06-30T05:53:21Z</td>\n",
       "      <td>Coleslaw was not fresh and it had a bad smell....</td>\n",
       "      <td>faria</td>\n",
       "      <td>1</td>\n",
       "      <td>4</td>\n",
       "    </tr>\n",
       "  </tbody>\n",
       "</table>\n",
       "</div>"
      ],
      "text/plain": [
       "                  createdAt  \\\n",
       "0  2022-02-04T11:10:14.474Z   \n",
       "1      2022-07-16T05:59:24Z   \n",
       "2  2022-04-24T12:15:02.221Z   \n",
       "3  2021-11-16T15:55:42.189Z   \n",
       "4      2022-06-30T05:53:21Z   \n",
       "\n",
       "                                                text reviewerName  \\\n",
       "0  he received my order around 2.30 pm but delive...    Anonymous   \n",
       "1  taste was not that good. and the amount of cof...       Israel   \n",
       "2        It is better if the girl is a little bigger    Anonymous   \n",
       "3        take too much time. today i feel very angry  Zerin Ibnat   \n",
       "4  Coleslaw was not fresh and it had a bad smell....        faria   \n",
       "\n",
       "   ratingvalue  id  \n",
       "0            4   0  \n",
       "1            1   1  \n",
       "2            5   2  \n",
       "3            1   3  \n",
       "4            1   4  "
      ]
     },
     "execution_count": 4,
     "metadata": {},
     "output_type": "execute_result"
    }
   ],
   "source": [
    "df = df.sample(frac=1).reset_index(drop=True)\n",
    "df = df.drop(['Unnamed: 0'], axis=1)\n",
    "df['id'] = df.index\n",
    "df.head()"
   ]
  },
  {
   "cell_type": "code",
   "execution_count": 5,
   "metadata": {},
   "outputs": [],
   "source": [
    "ax = df[\"ratingvalue\"].value_counts().sort_index()"
   ]
  },
  {
   "cell_type": "code",
   "execution_count": 6,
   "metadata": {},
   "outputs": [
    {
     "data": {
      "image/png": "[encoded data removed]",
      "text/plain": [
       "<Figure size 1000x500 with 1 Axes>"
      ]
     },
     "metadata": {},
     "output_type": "display_data"
    }
   ],
   "source": [
    "ax = df[\"ratingvalue\"].value_counts().sort_index().plot(kind=\"bar\", title=\"Count of Reviews by Stars\", figsize=(10,5))\n",
    "\n",
    "ax.set_xlabel('Review Stars')\n",
    "plt.savefig('stars.pdf')\n",
    "plt.show()"
   ]
  },
  {
   "cell_type": "markdown",
   "metadata": {},
   "source": [
    "# Models"
   ]
  },
  {
   "cell_type": "markdown",
   "metadata": {},
   "source": [
    "## Roberta"
   ]
  },
  {
   "cell_type": "code",
   "execution_count": 17,
   "metadata": {},
   "outputs": [],
   "source": [
    "MODEL = f'cardiffnlp/twitter-roberta-base-sentiment'\n",
    "tokenizer = AutoTokenizer.from_pretrained(MODEL)\n",
    "model = AutoModelForSequenceClassification.from_pretrained(MODEL)"
   ]
  },
  {
   "cell_type": "code",
   "execution_count": 18,
   "metadata": {},
   "outputs": [],
   "source": [
    "def polarity_scores_roberta(example):\n",
    "  encoded_text = tokenizer(example, return_tensors = 'pt')\n",
    "  output = model(**encoded_text)\n",
    "  scores = output[0][0].detach().numpy()\n",
    "  scores = softmax(scores)\n",
    "  scores_dict = {\n",
    "    'roberta_neg' : scores[0],\n",
    "    'roberta_neu' : scores[1],\n",
    "    'roberta_pos' : scores[2]\n",
    "  }\n",
    "  return scores_dict"
   ]
  },
  {
   "cell_type": "code",
   "execution_count": 19,
   "metadata": {},
   "outputs": [
    {
     "data": {
      "application/vnd.jupyter.widget-view+json": {
       "model_id": "f812a35379d942eab17a90ce58fc4541",
       "version_major": 2,
       "version_minor": 0
      },
      "text/plain": [
       "  0%|          | 0/15017 [00:00<?, ?it/s]"
      ]
     },
     "metadata": {},
     "output_type": "display_data"
    }
   ],
   "source": [
    "res = {}\n",
    "vader_result_rename = {}\n",
    "for i,row in tqdm(df.iterrows(), total = len(df)):\n",
    "  text = row['text']\n",
    "  myid = i\n",
    "  vader_result = sia.polarity_scores(text)\n",
    "  for key,value in vader_result.items():\n",
    "    vader_result_rename[f'vader_{key}'] = value\n",
    "  roberta_result = polarity_scores_roberta(text)\n",
    "  both = {**vader_result_rename, **roberta_result}\n",
    "  res[myid] = both"
   ]
  },
  {
   "cell_type": "code",
   "execution_count": 20,
   "metadata": {},
   "outputs": [],
   "source": [
    "results_df = pd.DataFrame(res).T\n",
    "results_df= results_df.reset_index().rename(columns={\"index\":\"id\"})\n",
    "results_df = results_df.merge(df, how=\"left\")"
   ]
  },
  {
   "cell_type": "code",
   "execution_count": 21,
   "metadata": {},
   "outputs": [
    {
     "data": {
      "text/html": [
       "<div>\n",
       "<style scoped>\n",
       "    .dataframe tbody tr th:only-of-type {\n",
       "        vertical-align: middle;\n",
       "    }\n",
       "\n",
       "    .dataframe tbody tr th {\n",
       "        vertical-align: top;\n",
       "    }\n",
       "\n",
       "    .dataframe thead th {\n",
       "        text-align: right;\n",
       "    }\n",
       "</style>\n",
       "<table border=\"1\" class=\"dataframe\">\n",
       "  <thead>\n",
       "    <tr style=\"text-align: right;\">\n",
       "      <th></th>\n",
       "      <th>id</th>\n",
       "      <th>vader_neg</th>\n",
       "      <th>vader_neu</th>\n",
       "      <th>vader_pos</th>\n",
       "      <th>vader_compound</th>\n",
       "      <th>roberta_neg</th>\n",
       "      <th>roberta_neu</th>\n",
       "      <th>roberta_pos</th>\n",
       "      <th>createdAt</th>\n",
       "      <th>text</th>\n",
       "      <th>reviewerName</th>\n",
       "      <th>ratingvalue</th>\n",
       "    </tr>\n",
       "  </thead>\n",
       "  <tbody>\n",
       "    <tr>\n",
       "      <th>0</th>\n",
       "      <td>0</td>\n",
       "      <td>0.000</td>\n",
       "      <td>1.000</td>\n",
       "      <td>0.000</td>\n",
       "      <td>0.0000</td>\n",
       "      <td>0.008115</td>\n",
       "      <td>0.804791</td>\n",
       "      <td>0.187094</td>\n",
       "      <td>2022-02-04T11:10:14.474Z</td>\n",
       "      <td>he received my order around 2.30 pm but delive...</td>\n",
       "      <td>Anonymous</td>\n",
       "      <td>4</td>\n",
       "    </tr>\n",
       "    <tr>\n",
       "      <th>1</th>\n",
       "      <td>1</td>\n",
       "      <td>0.167</td>\n",
       "      <td>0.833</td>\n",
       "      <td>0.000</td>\n",
       "      <td>-0.3412</td>\n",
       "      <td>0.915435</td>\n",
       "      <td>0.075450</td>\n",
       "      <td>0.009115</td>\n",
       "      <td>2022-07-16T05:59:24Z</td>\n",
       "      <td>taste was not that good. and the amount of cof...</td>\n",
       "      <td>Israel</td>\n",
       "      <td>1</td>\n",
       "    </tr>\n",
       "    <tr>\n",
       "      <th>2</th>\n",
       "      <td>2</td>\n",
       "      <td>0.000</td>\n",
       "      <td>0.734</td>\n",
       "      <td>0.266</td>\n",
       "      <td>0.4404</td>\n",
       "      <td>0.041308</td>\n",
       "      <td>0.409943</td>\n",
       "      <td>0.548750</td>\n",
       "      <td>2022-04-24T12:15:02.221Z</td>\n",
       "      <td>It is better if the girl is a little bigger</td>\n",
       "      <td>Anonymous</td>\n",
       "      <td>5</td>\n",
       "    </tr>\n",
       "    <tr>\n",
       "      <th>3</th>\n",
       "      <td>3</td>\n",
       "      <td>0.339</td>\n",
       "      <td>0.661</td>\n",
       "      <td>0.000</td>\n",
       "      <td>-0.5563</td>\n",
       "      <td>0.953995</td>\n",
       "      <td>0.041070</td>\n",
       "      <td>0.004935</td>\n",
       "      <td>2021-11-16T15:55:42.189Z</td>\n",
       "      <td>take too much time. today i feel very angry</td>\n",
       "      <td>Zerin Ibnat</td>\n",
       "      <td>1</td>\n",
       "    </tr>\n",
       "    <tr>\n",
       "      <th>4</th>\n",
       "      <td>4</td>\n",
       "      <td>0.374</td>\n",
       "      <td>0.626</td>\n",
       "      <td>0.000</td>\n",
       "      <td>-0.8386</td>\n",
       "      <td>0.963817</td>\n",
       "      <td>0.032379</td>\n",
       "      <td>0.003804</td>\n",
       "      <td>2022-06-30T05:53:21Z</td>\n",
       "      <td>Coleslaw was not fresh and it had a bad smell....</td>\n",
       "      <td>faria</td>\n",
       "      <td>1</td>\n",
       "    </tr>\n",
       "    <tr>\n",
       "      <th>...</th>\n",
       "      <td>...</td>\n",
       "      <td>...</td>\n",
       "      <td>...</td>\n",
       "      <td>...</td>\n",
       "      <td>...</td>\n",
       "      <td>...</td>\n",
       "      <td>...</td>\n",
       "      <td>...</td>\n",
       "      <td>...</td>\n",
       "      <td>...</td>\n",
       "      <td>...</td>\n",
       "      <td>...</td>\n",
       "    </tr>\n",
       "    <tr>\n",
       "      <th>15012</th>\n",
       "      <td>15012</td>\n",
       "      <td>0.000</td>\n",
       "      <td>0.263</td>\n",
       "      <td>0.737</td>\n",
       "      <td>0.4215</td>\n",
       "      <td>0.039455</td>\n",
       "      <td>0.282166</td>\n",
       "      <td>0.678379</td>\n",
       "      <td>2021-06-27T10:38:17.471Z</td>\n",
       "      <td>nice taste</td>\n",
       "      <td>Anonymous</td>\n",
       "      <td>5</td>\n",
       "    </tr>\n",
       "    <tr>\n",
       "      <th>15013</th>\n",
       "      <td>15013</td>\n",
       "      <td>0.000</td>\n",
       "      <td>0.408</td>\n",
       "      <td>0.592</td>\n",
       "      <td>0.4404</td>\n",
       "      <td>0.002754</td>\n",
       "      <td>0.041969</td>\n",
       "      <td>0.955276</td>\n",
       "      <td>2021-10-26T07:56:19.798Z</td>\n",
       "      <td>Taste is good.</td>\n",
       "      <td>Anonymous</td>\n",
       "      <td>5</td>\n",
       "    </tr>\n",
       "    <tr>\n",
       "      <th>15014</th>\n",
       "      <td>15014</td>\n",
       "      <td>0.000</td>\n",
       "      <td>0.738</td>\n",
       "      <td>0.262</td>\n",
       "      <td>0.4927</td>\n",
       "      <td>0.001298</td>\n",
       "      <td>0.014188</td>\n",
       "      <td>0.984514</td>\n",
       "      <td>2022-08-18T13:13:11Z</td>\n",
       "      <td>Masha Allah the food was very good today too. ...</td>\n",
       "      <td>Mithila</td>\n",
       "      <td>5</td>\n",
       "    </tr>\n",
       "    <tr>\n",
       "      <th>15015</th>\n",
       "      <td>15015</td>\n",
       "      <td>0.000</td>\n",
       "      <td>1.000</td>\n",
       "      <td>0.000</td>\n",
       "      <td>0.0000</td>\n",
       "      <td>0.859449</td>\n",
       "      <td>0.132488</td>\n",
       "      <td>0.008062</td>\n",
       "      <td>2021-10-30T09:29:16.450Z</td>\n",
       "      <td>Chicken was undercooked</td>\n",
       "      <td>Towsif Al Hafiz</td>\n",
       "      <td>4</td>\n",
       "    </tr>\n",
       "    <tr>\n",
       "      <th>15016</th>\n",
       "      <td>15016</td>\n",
       "      <td>0.000</td>\n",
       "      <td>1.000</td>\n",
       "      <td>0.000</td>\n",
       "      <td>0.0000</td>\n",
       "      <td>0.295514</td>\n",
       "      <td>0.669402</td>\n",
       "      <td>0.035084</td>\n",
       "      <td>2022-01-18T08:51:39.950Z</td>\n",
       "      <td>I ordered Mehjan set mill Gave me khichei mila...</td>\n",
       "      <td>ashik mahmud</td>\n",
       "      <td>1</td>\n",
       "    </tr>\n",
       "  </tbody>\n",
       "</table>\n",
       "<p>15017 rows × 12 columns</p>\n",
       "</div>"
      ],
      "text/plain": [
       "          id  vader_neg  vader_neu  vader_pos  vader_compound  roberta_neg  \\\n",
       "0          0      0.000      1.000      0.000          0.0000     0.008115   \n",
       "1          1      0.167      0.833      0.000         -0.3412     0.915435   \n",
       "2          2      0.000      0.734      0.266          0.4404     0.041308   \n",
       "3          3      0.339      0.661      0.000         -0.5563     0.953995   \n",
       "4          4      0.374      0.626      0.000         -0.8386     0.963817   \n",
       "...      ...        ...        ...        ...             ...          ...   \n",
       "15012  15012      0.000      0.263      0.737          0.4215     0.039455   \n",
       "15013  15013      0.000      0.408      0.592          0.4404     0.002754   \n",
       "15014  15014      0.000      0.738      0.262          0.4927     0.001298   \n",
       "15015  15015      0.000      1.000      0.000          0.0000     0.859449   \n",
       "15016  15016      0.000      1.000      0.000          0.0000     0.295514   \n",
       "\n",
       "       roberta_neu  roberta_pos                 createdAt  \\\n",
       "0         0.804791     0.187094  2022-02-04T11:10:14.474Z   \n",
       "1         0.075450     0.009115      2022-07-16T05:59:24Z   \n",
       "2         0.409943     0.548750  2022-04-24T12:15:02.221Z   \n",
       "3         0.041070     0.004935  2021-11-16T15:55:42.189Z   \n",
       "4         0.032379     0.003804      2022-06-30T05:53:21Z   \n",
       "...            ...          ...                       ...   \n",
       "15012     0.282166     0.678379  2021-06-27T10:38:17.471Z   \n",
       "15013     0.041969     0.955276  2021-10-26T07:56:19.798Z   \n",
       "15014     0.014188     0.984514      2022-08-18T13:13:11Z   \n",
       "15015     0.132488     0.008062  2021-10-30T09:29:16.450Z   \n",
       "15016     0.669402     0.035084  2022-01-18T08:51:39.950Z   \n",
       "\n",
       "                                                    text     reviewerName  \\\n",
       "0      he received my order around 2.30 pm but delive...        Anonymous   \n",
       "1      taste was not that good. and the amount of cof...           Israel   \n",
       "2            It is better if the girl is a little bigger        Anonymous   \n",
       "3            take too much time. today i feel very angry      Zerin Ibnat   \n",
       "4      Coleslaw was not fresh and it had a bad smell....            faria   \n",
       "...                                                  ...              ...   \n",
       "15012                                         nice taste        Anonymous   \n",
       "15013                                     Taste is good.        Anonymous   \n",
       "15014  Masha Allah the food was very good today too. ...          Mithila   \n",
       "15015                            Chicken was undercooked  Towsif Al Hafiz   \n",
       "15016  I ordered Mehjan set mill Gave me khichei mila...     ashik mahmud   \n",
       "\n",
       "       ratingvalue  \n",
       "0                4  \n",
       "1                1  \n",
       "2                5  \n",
       "3                1  \n",
       "4                1  \n",
       "...            ...  \n",
       "15012            5  \n",
       "15013            5  \n",
       "15014            5  \n",
       "15015            4  \n",
       "15016            1  \n",
       "\n",
       "[15017 rows x 12 columns]"
      ]
     },
     "execution_count": 21,
     "metadata": {},
     "output_type": "execute_result"
    }
   ],
   "source": [
    "results_df"
   ]
  },
  {
   "cell_type": "code",
   "execution_count": 22,
   "metadata": {},
   "outputs": [],
   "source": [
    "tp = 0\n",
    "for i,row in results_df.iterrows():\n",
    "  positive = row[\"roberta_pos\"]\n",
    "  negative = row[\"roberta_neg\"]\n",
    "  neutral = row[\"roberta_neu\"]\n",
    "  if(max(positive,negative,neutral) == positive and row[\"ratingvalue\"]==4 or row[\"ratingvalue\"]==5):\n",
    "    tp+=1\n",
    "  elif(max(positive,negative,neutral) == neutral and row[\"ratingvalue\"]==3):\n",
    "    tp+=1\n",
    "  elif(max(positive,negative,neutral) == negative and row[\"ratingvalue\"]==1 or row[\"ratingvalue\"]==2):\n",
    "    tp+=1\n",
    "\n",
    "roberta_accuracy = (tp)/(results_df.shape[0])\n",
    "\n"
   ]
  },
  {
   "cell_type": "code",
   "execution_count": 23,
   "metadata": {},
   "outputs": [],
   "source": [
    "tp = 0\n",
    "fp = 0 \n",
    "for i,row in results_df.iterrows():\n",
    "  positive = row[\"roberta_pos\"]\n",
    "  negative = row[\"roberta_neg\"]\n",
    "  neutral = row[\"roberta_neu\"]\n",
    "  if(max(positive,negative,neutral) == positive and row[\"ratingvalue\"]==4 or row[\"ratingvalue\"]==5):\n",
    "    tp+=1\n",
    "  elif(max(positive,negative,neutral) == neutral and row[\"ratingvalue\"]==3):\n",
    "    tp+=1\n",
    "  elif(max(positive,negative,neutral) == negative and row[\"ratingvalue\"]==1 or row[\"ratingvalue\"]==2):\n",
    "    tp+=1\n",
    "  elif(max(positive,negative,neutral) == positive and row[\"ratingvalue\"]<4):\n",
    "    fp+=1\n",
    "roberta_precision = (tp)/(tp+fp)\n",
    "\n",
    "\n"
   ]
  },
  {
   "cell_type": "code",
   "execution_count": 24,
   "metadata": {},
   "outputs": [],
   "source": [
    "tp = 0\n",
    "fn = 0 \n",
    "for i,row in results_df.iterrows():\n",
    "  positive = row[\"roberta_pos\"]\n",
    "  negative = row[\"roberta_neg\"]\n",
    "  neutral = row[\"roberta_neu\"]\n",
    "  if(max(positive,negative,neutral) == positive and row[\"ratingvalue\"]==4 or row[\"ratingvalue\"]==5):\n",
    "    tp+=1\n",
    "  elif(max(positive,negative,neutral) == neutral and row[\"ratingvalue\"]==3):\n",
    "    tp+=1\n",
    "  elif(max(positive,negative,neutral) == negative and row[\"ratingvalue\"]==1 or row[\"ratingvalue\"]==2):\n",
    "    tp+=1\n",
    "  if(max(positive,negative,neutral) == negative and row[\"ratingvalue\"]>2):\n",
    "    fn+=1\n",
    "  if(max(positive,negative,neutral) == negative and row[\"ratingvalue\"]!=3):  \n",
    "    fn+=1\n",
    "    \n",
    "roberta_recall = (tp)/(tp+fn)"
   ]
  },
  {
   "cell_type": "code",
   "execution_count": 25,
   "metadata": {},
   "outputs": [],
   "source": [
    "roberta_f1_Score = 2 * (roberta_precision * roberta_recall) / (roberta_precision + roberta_recall)"
   ]
  },
  {
   "cell_type": "code",
   "execution_count": 26,
   "metadata": {},
   "outputs": [
    {
     "name": "stdout",
     "output_type": "stream",
     "text": [
      "Roberta accuracy: 0.7366984084704002\n",
      "Roberta Precision: 0.9716318285613912\n",
      "Roberta Recall: 0.5505897576270343\n",
      "Roberta F1 Score: 0.7028812859366563\n"
     ]
    }
   ],
   "source": [
    "print(\"Roberta accuracy: \" + str(roberta_accuracy))\n",
    "print(\"Roberta Precision: \" + str(roberta_precision))\n",
    "print(\"Roberta Recall: \" + str(roberta_recall))\n",
    "print(\"Roberta F1 Score: \" + str(roberta_f1_Score))"
   ]
  },
  {
   "cell_type": "markdown",
   "metadata": {},
   "source": [
    "## DistilBERT"
   ]
  },
  {
   "cell_type": "code",
   "execution_count": 27,
   "metadata": {},
   "outputs": [
    {
     "name": "stderr",
     "output_type": "stream",
     "text": [
      "No model was supplied, defaulted to distilbert-base-uncased-finetuned-sst-2-english and revision af0f99b (https://huggingface.co/distilbert-base-uncased-finetuned-sst-2-english).\n",
      "Using a pipeline without specifying a model name and revision in production is not recommended.\n"
     ]
    },
    {
     "data": {
      "application/vnd.jupyter.widget-view+json": {
       "model_id": "cfaf7fea49754ceca1c85bd777b95f5a",
       "version_major": 2,
       "version_minor": 0
      },
      "text/plain": [
       "Downloading (…)lve/main/config.json:   0%|          | 0.00/629 [00:00<?, ?B/s]"
      ]
     },
     "metadata": {},
     "output_type": "display_data"
    },
    {
     "data": {
      "application/vnd.jupyter.widget-view+json": {
       "model_id": "d99fc07e86ef4a60805410295819d700",
       "version_major": 2,
       "version_minor": 0
      },
      "text/plain": [
       "Downloading (…)\"pytorch_model.bin\";:   0%|          | 0.00/268M [00:00<?, ?B/s]"
      ]
     },
     "metadata": {},
     "output_type": "display_data"
    },
    {
     "data": {
      "application/vnd.jupyter.widget-view+json": {
       "model_id": "a7314e10c83d4206bc9513685a9b75c7",
       "version_major": 2,
       "version_minor": 0
      },
      "text/plain": [
       "Downloading (…)okenizer_config.json:   0%|          | 0.00/48.0 [00:00<?, ?B/s]"
      ]
     },
     "metadata": {},
     "output_type": "display_data"
    },
    {
     "data": {
      "application/vnd.jupyter.widget-view+json": {
       "model_id": "5b0adf8353844ed089e06b793e57258c",
       "version_major": 2,
       "version_minor": 0
      },
      "text/plain": [
       "Downloading (…)solve/main/vocab.txt:   0%|          | 0.00/232k [00:00<?, ?B/s]"
      ]
     },
     "metadata": {},
     "output_type": "display_data"
    }
   ],
   "source": [
    "from transformers import pipeline\n",
    "\n",
    "sent_pipeline = pipeline(\"sentiment-analysis\")"
   ]
  },
  {
   "cell_type": "code",
   "execution_count": 28,
   "metadata": {},
   "outputs": [
    {
     "data": {
      "application/vnd.jupyter.widget-view+json": {
       "model_id": "da8bdb60d5ce4710a5a37bf662640027",
       "version_major": 2,
       "version_minor": 0
      },
      "text/plain": [
       "  0%|          | 0/15017 [00:00<?, ?it/s]"
      ]
     },
     "metadata": {},
     "output_type": "display_data"
    }
   ],
   "source": [
    "res = {}\n",
    "pipeline_result_rename = {}\n",
    "for i,row in tqdm(df.iterrows(), total = len(df)):\n",
    "    text = row['text']\n",
    "    myid = i\n",
    "    pipeline_result = sent_pipeline(text)\n",
    "    for key,value in pipeline_result[0].items():\n",
    "        pipeline_result_rename[f'pipeline_{key}'] = value\n",
    "    res[myid] = pipeline_result_rename.copy()"
   ]
  },
  {
   "cell_type": "code",
   "execution_count": 29,
   "metadata": {},
   "outputs": [],
   "source": [
    "results_df2 = pd.DataFrame(res).T\n",
    "results_df2= results_df2.reset_index().rename(columns={\"index\":\"id\"})\n",
    "results_df2 = results_df2.merge(df, how=\"left\")"
   ]
  },
  {
   "cell_type": "code",
   "execution_count": 30,
   "metadata": {},
   "outputs": [],
   "source": [
    "pos_reviews = results_df2[results_df2.pipeline_label == 'POSITIVE']\n",
    "pos_text = \" \".join(review for review in pos_reviews.text)\n",
    "neg_reviews = results_df2[results_df2.pipeline_label == 'NEGATIVE']\n",
    "neg_text = \" \".join(review for review in neg_reviews.text)"
   ]
  },
  {
   "cell_type": "code",
   "execution_count": 31,
   "metadata": {},
   "outputs": [],
   "source": [
    "neg_reviews = neg_reviews[neg_reviews.ratingvalue <4]\n",
    "pos_reviews = pos_reviews[pos_reviews.ratingvalue >3]\n",
    "distilbert_accuracy = (neg_reviews.shape[0] + pos_reviews.shape[0]) / results_df2.shape[0]"
   ]
  },
  {
   "cell_type": "code",
   "execution_count": 32,
   "metadata": {},
   "outputs": [],
   "source": [
    "neg_reviews = results_df2[results_df2.pipeline_label == 'NEGATIVE']\n",
    "pos_reviews = results_df2[results_df2.pipeline_label == 'POSITIVE']"
   ]
  },
  {
   "cell_type": "code",
   "execution_count": 33,
   "metadata": {},
   "outputs": [],
   "source": [
    "precision_pos_reviews = pos_reviews[pos_reviews.ratingvalue <4]\n",
    "\n",
    "distilbert_precision = pos_reviews.shape[0]/(precision_pos_reviews.shape[0]+pos_reviews.shape[0])\n"
   ]
  },
  {
   "cell_type": "code",
   "execution_count": 34,
   "metadata": {},
   "outputs": [],
   "source": [
    "recall_neg_reviews = neg_reviews[neg_reviews.ratingvalue >3]\n",
    "distilbert_recall = (neg_reviews.shape[0] + pos_reviews.shape[0])/(recall_neg_reviews.shape[0]+(neg_reviews.shape[0] + pos_reviews.shape[0]))\n"
   ]
  },
  {
   "cell_type": "code",
   "execution_count": 35,
   "metadata": {},
   "outputs": [],
   "source": [
    "distilbert_f1_Score = 2 * (distilbert_precision * distilbert_recall) / (distilbert_precision + distilbert_recall)"
   ]
  },
  {
   "cell_type": "code",
   "execution_count": 36,
   "metadata": {},
   "outputs": [
    {
     "name": "stdout",
     "output_type": "stream",
     "text": [
      "DistilBERT accuracy: 0.7673969501231938\n",
      "DistilBERT Precision: 0.8289807762060211\n",
      "DistilBERT Recall: 0.8548414641088404\n",
      "DistilBERT F1 Score: 0.8417125317426934\n"
     ]
    }
   ],
   "source": [
    "print(\"DistilBERT accuracy: \" + str(distilbert_accuracy))\n",
    "print(\"DistilBERT Precision: \" + str(distilbert_precision))\n",
    "print(\"DistilBERT Recall: \" + str(distilbert_recall))\n",
    "print(\"DistilBERT F1 Score: \" + str(distilbert_f1_Score))"
   ]
  },
  {
   "cell_type": "markdown",
   "metadata": {},
   "source": [
    "## BERT"
   ]
  },
  {
   "cell_type": "code",
   "execution_count": 37,
   "metadata": {},
   "outputs": [],
   "source": [
    "sent_pipeline = pipeline(\"sentiment-analysis\", model=\"nlptown/bert-base-multilingual-uncased-sentiment\")"
   ]
  },
  {
   "cell_type": "code",
   "execution_count": 38,
   "metadata": {},
   "outputs": [
    {
     "data": {
      "application/vnd.jupyter.widget-view+json": {
       "model_id": "498e402174aa4adfaf297a1175080571",
       "version_major": 2,
       "version_minor": 0
      },
      "text/plain": [
       "  0%|          | 0/15017 [00:00<?, ?it/s]"
      ]
     },
     "metadata": {},
     "output_type": "display_data"
    }
   ],
   "source": [
    "res = {}\n",
    "pipeline_result_rename = {}\n",
    "for i,row in tqdm(df.iterrows(), total = len(df)):\n",
    "    text = row['text']\n",
    "    myid = i\n",
    "    pipeline_result = sent_pipeline(text)\n",
    "    for key,value in pipeline_result[0].items():\n",
    "        pipeline_result_rename[f'pipeline_{key}'] = value\n",
    "    res[myid] = pipeline_result_rename.copy()"
   ]
  },
  {
   "cell_type": "code",
   "execution_count": 39,
   "metadata": {},
   "outputs": [],
   "source": [
    "results_df3 = pd.DataFrame(res).T\n",
    "results_df3= results_df3.reset_index().rename(columns={\"index\":\"id\"})\n",
    "results_df3 = results_df3.merge(df, how=\"left\")"
   ]
  },
  {
   "cell_type": "code",
   "execution_count": 40,
   "metadata": {},
   "outputs": [
    {
     "data": {
      "text/html": [
       "<div>\n",
       "<style scoped>\n",
       "    .dataframe tbody tr th:only-of-type {\n",
       "        vertical-align: middle;\n",
       "    }\n",
       "\n",
       "    .dataframe tbody tr th {\n",
       "        vertical-align: top;\n",
       "    }\n",
       "\n",
       "    .dataframe thead th {\n",
       "        text-align: right;\n",
       "    }\n",
       "</style>\n",
       "<table border=\"1\" class=\"dataframe\">\n",
       "  <thead>\n",
       "    <tr style=\"text-align: right;\">\n",
       "      <th></th>\n",
       "      <th>id</th>\n",
       "      <th>pipeline_label</th>\n",
       "      <th>pipeline_score</th>\n",
       "      <th>createdAt</th>\n",
       "      <th>text</th>\n",
       "      <th>reviewerName</th>\n",
       "      <th>ratingvalue</th>\n",
       "    </tr>\n",
       "  </thead>\n",
       "  <tbody>\n",
       "    <tr>\n",
       "      <th>0</th>\n",
       "      <td>0</td>\n",
       "      <td>1 star</td>\n",
       "      <td>0.507326</td>\n",
       "      <td>2022-02-04T11:10:14.474Z</td>\n",
       "      <td>he received my order around 2.30 pm but delive...</td>\n",
       "      <td>Anonymous</td>\n",
       "      <td>4</td>\n",
       "    </tr>\n",
       "    <tr>\n",
       "      <th>1</th>\n",
       "      <td>1</td>\n",
       "      <td>2 stars</td>\n",
       "      <td>0.561847</td>\n",
       "      <td>2022-07-16T05:59:24Z</td>\n",
       "      <td>taste was not that good. and the amount of cof...</td>\n",
       "      <td>Israel</td>\n",
       "      <td>1</td>\n",
       "    </tr>\n",
       "    <tr>\n",
       "      <th>2</th>\n",
       "      <td>2</td>\n",
       "      <td>3 stars</td>\n",
       "      <td>0.577202</td>\n",
       "      <td>2022-04-24T12:15:02.221Z</td>\n",
       "      <td>It is better if the girl is a little bigger</td>\n",
       "      <td>Anonymous</td>\n",
       "      <td>5</td>\n",
       "    </tr>\n",
       "    <tr>\n",
       "      <th>3</th>\n",
       "      <td>3</td>\n",
       "      <td>2 stars</td>\n",
       "      <td>0.447705</td>\n",
       "      <td>2021-11-16T15:55:42.189Z</td>\n",
       "      <td>take too much time. today i feel very angry</td>\n",
       "      <td>Zerin Ibnat</td>\n",
       "      <td>1</td>\n",
       "    </tr>\n",
       "    <tr>\n",
       "      <th>4</th>\n",
       "      <td>4</td>\n",
       "      <td>1 star</td>\n",
       "      <td>0.451526</td>\n",
       "      <td>2022-06-30T05:53:21Z</td>\n",
       "      <td>Coleslaw was not fresh and it had a bad smell....</td>\n",
       "      <td>faria</td>\n",
       "      <td>1</td>\n",
       "    </tr>\n",
       "    <tr>\n",
       "      <th>...</th>\n",
       "      <td>...</td>\n",
       "      <td>...</td>\n",
       "      <td>...</td>\n",
       "      <td>...</td>\n",
       "      <td>...</td>\n",
       "      <td>...</td>\n",
       "      <td>...</td>\n",
       "    </tr>\n",
       "    <tr>\n",
       "      <th>15012</th>\n",
       "      <td>15012</td>\n",
       "      <td>4 stars</td>\n",
       "      <td>0.473838</td>\n",
       "      <td>2021-06-27T10:38:17.471Z</td>\n",
       "      <td>nice taste</td>\n",
       "      <td>Anonymous</td>\n",
       "      <td>5</td>\n",
       "    </tr>\n",
       "    <tr>\n",
       "      <th>15013</th>\n",
       "      <td>15013</td>\n",
       "      <td>4 stars</td>\n",
       "      <td>0.509026</td>\n",
       "      <td>2021-10-26T07:56:19.798Z</td>\n",
       "      <td>Taste is good.</td>\n",
       "      <td>Anonymous</td>\n",
       "      <td>5</td>\n",
       "    </tr>\n",
       "    <tr>\n",
       "      <th>15014</th>\n",
       "      <td>15014</td>\n",
       "      <td>5 stars</td>\n",
       "      <td>0.620138</td>\n",
       "      <td>2022-08-18T13:13:11Z</td>\n",
       "      <td>Masha Allah the food was very good today too. ...</td>\n",
       "      <td>Mithila</td>\n",
       "      <td>5</td>\n",
       "    </tr>\n",
       "    <tr>\n",
       "      <th>15015</th>\n",
       "      <td>15015</td>\n",
       "      <td>1 star</td>\n",
       "      <td>0.410384</td>\n",
       "      <td>2021-10-30T09:29:16.450Z</td>\n",
       "      <td>Chicken was undercooked</td>\n",
       "      <td>Towsif Al Hafiz</td>\n",
       "      <td>4</td>\n",
       "    </tr>\n",
       "    <tr>\n",
       "      <th>15016</th>\n",
       "      <td>15016</td>\n",
       "      <td>1 star</td>\n",
       "      <td>0.685167</td>\n",
       "      <td>2022-01-18T08:51:39.950Z</td>\n",
       "      <td>I ordered Mehjan set mill Gave me khichei mila...</td>\n",
       "      <td>ashik mahmud</td>\n",
       "      <td>1</td>\n",
       "    </tr>\n",
       "  </tbody>\n",
       "</table>\n",
       "<p>15017 rows × 7 columns</p>\n",
       "</div>"
      ],
      "text/plain": [
       "          id pipeline_label pipeline_score                 createdAt  \\\n",
       "0          0         1 star       0.507326  2022-02-04T11:10:14.474Z   \n",
       "1          1        2 stars       0.561847      2022-07-16T05:59:24Z   \n",
       "2          2        3 stars       0.577202  2022-04-24T12:15:02.221Z   \n",
       "3          3        2 stars       0.447705  2021-11-16T15:55:42.189Z   \n",
       "4          4         1 star       0.451526      2022-06-30T05:53:21Z   \n",
       "...      ...            ...            ...                       ...   \n",
       "15012  15012        4 stars       0.473838  2021-06-27T10:38:17.471Z   \n",
       "15013  15013        4 stars       0.509026  2021-10-26T07:56:19.798Z   \n",
       "15014  15014        5 stars       0.620138      2022-08-18T13:13:11Z   \n",
       "15015  15015         1 star       0.410384  2021-10-30T09:29:16.450Z   \n",
       "15016  15016         1 star       0.685167  2022-01-18T08:51:39.950Z   \n",
       "\n",
       "                                                    text     reviewerName  \\\n",
       "0      he received my order around 2.30 pm but delive...        Anonymous   \n",
       "1      taste was not that good. and the amount of cof...           Israel   \n",
       "2            It is better if the girl is a little bigger        Anonymous   \n",
       "3            take too much time. today i feel very angry      Zerin Ibnat   \n",
       "4      Coleslaw was not fresh and it had a bad smell....            faria   \n",
       "...                                                  ...              ...   \n",
       "15012                                         nice taste        Anonymous   \n",
       "15013                                     Taste is good.        Anonymous   \n",
       "15014  Masha Allah the food was very good today too. ...          Mithila   \n",
       "15015                            Chicken was undercooked  Towsif Al Hafiz   \n",
       "15016  I ordered Mehjan set mill Gave me khichei mila...     ashik mahmud   \n",
       "\n",
       "       ratingvalue  \n",
       "0                4  \n",
       "1                1  \n",
       "2                5  \n",
       "3                1  \n",
       "4                1  \n",
       "...            ...  \n",
       "15012            5  \n",
       "15013            5  \n",
       "15014            5  \n",
       "15015            4  \n",
       "15016            1  \n",
       "\n",
       "[15017 rows x 7 columns]"
      ]
     },
     "execution_count": 40,
     "metadata": {},
     "output_type": "execute_result"
    }
   ],
   "source": [
    "results_df3"
   ]
  },
  {
   "cell_type": "code",
   "execution_count": 41,
   "metadata": {},
   "outputs": [],
   "source": [
    "pos_reviews = results_df3[(results_df3.pipeline_label == \"4 stars\") | (results_df3.pipeline_label == \"5 stars\")]\n",
    "neg_reviews = results_df3[(results_df3.pipeline_label == \"3 stars\") | (results_df3.pipeline_label == \"2 stars\") | (results_df3.pipeline_label == \"1 star\")]\n",
    "pos_reviews.shape\n",
    "neg_reviews.shape\n",
    "\n",
    "pos_reviews = pos_reviews[pos_reviews.ratingvalue>3]\n",
    "neg_reviews = neg_reviews[neg_reviews.ratingvalue<4]\n",
    "bert_accuracy = (neg_reviews.shape[0] + pos_reviews.shape[0]) / results_df3.shape[0]"
   ]
  },
  {
   "cell_type": "code",
   "execution_count": 42,
   "metadata": {},
   "outputs": [],
   "source": [
    "pos_reviews = results_df3[(results_df3.pipeline_label == \"4 stars\") | (results_df3.pipeline_label == \"5 stars\")]\n",
    "neg_reviews = results_df3[(results_df3.pipeline_label == \"3 stars\") | (results_df3.pipeline_label == \"2 stars\") | (results_df3.pipeline_label == \"1 star\")]"
   ]
  },
  {
   "cell_type": "code",
   "execution_count": 43,
   "metadata": {},
   "outputs": [],
   "source": [
    "precision_pos_reviews = pos_reviews[pos_reviews.ratingvalue <4]\n",
    "precision_pos_reviews.shape\n",
    "bert_precision = pos_reviews.shape[0]/(precision_pos_reviews.shape[0]+pos_reviews.shape[0])"
   ]
  },
  {
   "cell_type": "code",
   "execution_count": 44,
   "metadata": {},
   "outputs": [],
   "source": [
    "recall_neg_reviews = neg_reviews[neg_reviews.ratingvalue >3]\n",
    "bert_recall = (neg_reviews.shape[0] + pos_reviews.shape[0])/(recall_neg_reviews.shape[0]+(neg_reviews.shape[0] + pos_reviews.shape[0]))"
   ]
  },
  {
   "cell_type": "code",
   "execution_count": 47,
   "metadata": {},
   "outputs": [],
   "source": [
    "bert_f1_score = 2 * (bert_precision * bert_recall) / (bert_precision+bert_recall)"
   ]
  },
  {
   "cell_type": "code",
   "execution_count": 51,
   "metadata": {},
   "outputs": [
    {
     "name": "stdout",
     "output_type": "stream",
     "text": [
      "BERT accuracy: 0.7585403209695678\n",
      "BERT Precision: 0.8483554036736437\n",
      "BERT Recall: 0.8373947471142587\n",
      "BERT F1 Score: 0.8428394425950585\n"
     ]
    }
   ],
   "source": [
    "print(\"BERT accuracy: \" + str(bert_accuracy))\n",
    "print(\"BERT Precision: \" + str(bert_precision))\n",
    "print(\"BERT Recall: \" + str(bert_recall))\n",
    "print(\"BERT F1 Score: \" + str(bert_f1_score))"
   ]
  },
  {
   "cell_type": "markdown",
   "metadata": {},
   "source": [
    "## Afinn"
   ]
  },
  {
   "cell_type": "code",
   "execution_count": 52,
   "metadata": {},
   "outputs": [
    {
     "name": "stdout",
     "output_type": "stream",
     "text": [
      "Requirement already satisfied: afinn in c:\\programdata\\anaconda3\\lib\\site-packages (0.1)\n"
     ]
    }
   ],
   "source": [
    "!pip install afinn\n",
    "from afinn import Afinn\n",
    "\n",
    "# Initialize the Afinn object\n",
    "afinn = Afinn()"
   ]
  },
  {
   "cell_type": "code",
   "execution_count": 53,
   "metadata": {},
   "outputs": [
    {
     "data": {
      "application/vnd.jupyter.widget-view+json": {
       "model_id": "b97f9fb14f2047c38c32459c14ca511e",
       "version_major": 2,
       "version_minor": 0
      },
      "text/plain": [
       "  0%|          | 0/15017 [00:00<?, ?it/s]"
      ]
     },
     "metadata": {},
     "output_type": "display_data"
    }
   ],
   "source": [
    "res = {}\n",
    "pipeline_result_rename = {}\n",
    "for i,row in tqdm(df.iterrows(), total = len(df)):\n",
    "    text = row['text']\n",
    "    myid = i\n",
    "    value = afinn.score(text)\n",
    "    pipeline_result_rename[\"score\"] = value\n",
    "    res[myid] = pipeline_result_rename.copy()"
   ]
  },
  {
   "cell_type": "code",
   "execution_count": 54,
   "metadata": {},
   "outputs": [],
   "source": [
    "results_df4 = pd.DataFrame(res).T\n",
    "results_df4= results_df4.reset_index().rename(columns={\"index\":\"id\"})\n",
    "results_df4 = results_df4.merge(df, how=\"left\")"
   ]
  },
  {
   "cell_type": "code",
   "execution_count": 55,
   "metadata": {},
   "outputs": [],
   "source": [
    "pos_reviews = results_df4[(results_df4.score>0)]\n",
    "neg_reviews = results_df4[(results_df4.score<=0)]\n",
    "\n",
    "pos_reviews = pos_reviews[pos_reviews.ratingvalue>3]\n",
    "neg_reviews = neg_reviews[neg_reviews.ratingvalue<4]\n",
    "afinn_accuracy = (neg_reviews.shape[0] + pos_reviews.shape[0]) / results_df4.shape[0]"
   ]
  },
  {
   "cell_type": "code",
   "execution_count": 56,
   "metadata": {},
   "outputs": [],
   "source": [
    "pos_reviews = results_df4[(results_df4.score>0)]\n",
    "neg_reviews = results_df4[(results_df4.score<=0)]"
   ]
  },
  {
   "cell_type": "code",
   "execution_count": 57,
   "metadata": {},
   "outputs": [],
   "source": [
    "precision_pos_reviews = pos_reviews[pos_reviews.ratingvalue <4]\n",
    "precision_pos_reviews.shape\n",
    "afinn_precision = pos_reviews.shape[0]/(precision_pos_reviews.shape[0]+pos_reviews.shape[0])"
   ]
  },
  {
   "cell_type": "code",
   "execution_count": 58,
   "metadata": {},
   "outputs": [],
   "source": [
    "recall_neg_reviews = neg_reviews[neg_reviews.ratingvalue >3]\n",
    "afinn_recall = (neg_reviews.shape[0] + pos_reviews.shape[0])/(recall_neg_reviews.shape[0]+(neg_reviews.shape[0] + pos_reviews.shape[0]))"
   ]
  },
  {
   "cell_type": "code",
   "execution_count": 59,
   "metadata": {},
   "outputs": [],
   "source": [
    "afinn_f1score = 2 * (afinn_precision * afinn_recall) / (afinn_precision + afinn_recall)"
   ]
  },
  {
   "cell_type": "code",
   "execution_count": 61,
   "metadata": {},
   "outputs": [
    {
     "name": "stdout",
     "output_type": "stream",
     "text": [
      "Afinn accuracy: 0.7273756409402677\n",
      "Afinn Precision: 0.7682409709021787\n",
      "Afinn Recall: 0.8568412644071665\n",
      "Afinn F1 Score: 0.8101258515719454\n"
     ]
    }
   ],
   "source": [
    "print(\"Afinn accuracy: \" + str(afinn_accuracy))\n",
    "print(\"Afinn Precision: \" + str(afinn_precision))\n",
    "print(\"Afinn Recall: \" + str(afinn_recall))\n",
    "print(\"Afinn F1 Score: \" + str(afinn_f1score))"
   ]
  }
 ],
 "metadata": {
  "kernelspec": {
   "display_name": "Python 3 (ipykernel)",
   "language": "python",
   "name": "python3"
  },
  "language_info": {
   "codemirror_mode": {
    "name": "ipython",
    "version": 3
   },
   "file_extension": ".py",
   "mimetype": "text/x-python",
   "name": "python",
   "nbconvert_exporter": "python",
   "pygments_lexer": "ipython3",
   "version": "3.9.13"
  }
 },
 "nbformat": 4,
 "nbformat_minor": 4
}
